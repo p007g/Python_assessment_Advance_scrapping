{
 "cells": [
  {
   "cell_type": "markdown",
   "metadata": {},
   "source": [
    "--- Importing the modules ---"
   ]
  },
  {
   "cell_type": "code",
   "execution_count": 1,
   "metadata": {},
   "outputs": [],
   "source": [
    "import pandas as pd\n",
    "import numpy as np\n",
    "import timeit\n",
    "import time\n",
    "from selenium import webdriver\n",
    "from selenium.webdriver.common.by import By\n",
    "import matplotlib.pyplot as plt"
   ]
  },
  {
   "cell_type": "markdown",
   "metadata": {},
   "source": [
    "--- Initialize Selenium WebDriver and Automate the task---"
   ]
  },
  {
   "cell_type": "code",
   "execution_count": 2,
   "metadata": {},
   "outputs": [
    {
     "name": "stdout",
     "output_type": "stream",
     "text": [
      "Heading: Futures Market Overview\n"
     ]
    }
   ],
   "source": [
    "driver = webdriver.Chrome()\n",
    "driver.get(\"https://www.barchart.com/futures\")\n",
    "\n",
    "time.sleep(5)  # Allow time for the page to load\n",
    "\n",
    "\n",
    "# Heading ---\n",
    "title = driver.find_element(By.CLASS_NAME, \"title-wrapper\").text\n",
    "print(\"Heading:\", title)\n",
    "\n",
    "# Locate the table element\n",
    "element = driver.find_element(By.CLASS_NAME, \"block-content\")\n",
    "text_data = element.find_element(By.TAG_NAME, \"div\").text\n",
    "\n",
    "\n",
    "driver.quit()"
   ]
  },
  {
   "cell_type": "code",
   "execution_count": 3,
   "metadata": {},
   "outputs": [
    {
     "data": {
      "text/plain": [
       "\"Contract Name\\nLast\\nChange\\nHigh\\nLow\\nVolume\\nTime\\nLinks\\nS&P 500 E-Mini (Dec '24)\\n6,011.75\\n-4.25\\n6,025.25\\n6,004.00\\n155,852\\n07:46 CT\\nNasdaq 100 E-Mini (Dec '24)\\n21,133.75\\n-25.75\\n21,190.25\\n21,090.25\\n79,976\\n07:46 CT\\nDow Futures Mini (Dec '24)\\n44,169\\n+61\\n44,261\\n44,029\\n23,663\\n07:46 CT\\nS&P 500 VIX (Dec '24)\\n15.4100\\n-0.0498\\n15.6000\\n15.3500\\n3,865\\n07:46 CT\\nU.S. Dollar Index (Dec '24)\\n106.810\\n+0.431\\n106.990\\n106.410\\n11,137\\n07:46 CT\\n10-Year T-Note (Dec '24)\\n109-060\\n-0-075\\n109-165\\n109-040\\n769,255\\n07:46 CT\\nCrude Oil WTI (Dec '24)\\n69.12\\n+0.69\\n69.29\\n67.92\\n61,204\\n07:46 CT\\nNatural Gas (Jan '25)\\n3.174\\n-0.028\\n3.201\\n3.156\\n13,585\\n07:46 CT\\nGold (Dec '24)\\n2,563.5\\n-23.0\\n2,585.8\\n2,541.5\\n140,994\\n07:46 CT\\nSilver (Dec '24)\\n30.285\\n-0.378\\n30.515\\n29.750\\n41,454\\n07:46 CT\\nCorn (Dec '24)\\n425-4\\n-1-0\\n428-0\\n425-2\\n30,236\\n07:44 CT\\nWheat (Dec '24)\\n537-4\\n-3-4\\n544-2\\n536-2\\n10,404\\n07:44 CT\\nSoybean (Jan '25)\\n1007-2\\n-0-4\\n1013-6\\n1005-0\\n21,702\\n07:44 CT\\nSugar #11 (Mar '25)\\n21.38\\n+0.21\\n21.39\\n20.86\\n19,511\\n07:46 CT\\nCoffee (Mar '25)\\n276.15\\n+4.95\\n276.50\\n270.45\\n9,427\\n07:46 CT\\nCocoa (Mar '25)\\n8,390\\n+419\\n8,417\\n7,952\\n5,882\\n07:46 CT\""
      ]
     },
     "execution_count": 3,
     "metadata": {},
     "output_type": "execute_result"
    }
   ],
   "source": [
    "text_data"
   ]
  },
  {
   "cell_type": "markdown",
   "metadata": {},
   "source": [
    "--- Clean, Transform and Load the Data ---"
   ]
  },
  {
   "cell_type": "code",
   "execution_count": 4,
   "metadata": {},
   "outputs": [],
   "source": [
    "# Step 1: Split text by lines and clean up any extra whitespace ---\n",
    "cleaned_data = text_data.strip().splitlines()\n",
    "\n",
    "lines = []\n",
    "for line in cleaned_data:\n",
    "    stripped_line = line.strip()  # Remove whitespace from each line\n",
    "    if stripped_line:             # Only add non-empty lines\n",
    "        lines.append(stripped_line)"
   ]
  },
  {
   "cell_type": "code",
   "execution_count": 5,
   "metadata": {},
   "outputs": [
    {
     "data": {
      "text/plain": [
       "['Contract Name',\n",
       " 'Last',\n",
       " 'Change',\n",
       " 'High',\n",
       " 'Low',\n",
       " 'Volume',\n",
       " 'Time',\n",
       " 'Links',\n",
       " \"S&P 500 E-Mini (Dec '24)\",\n",
       " '6,011.75',\n",
       " '-4.25',\n",
       " '6,025.25',\n",
       " '6,004.00',\n",
       " '155,852',\n",
       " '07:46 CT',\n",
       " \"Nasdaq 100 E-Mini (Dec '24)\",\n",
       " '21,133.75',\n",
       " '-25.75',\n",
       " '21,190.25',\n",
       " '21,090.25',\n",
       " '79,976',\n",
       " '07:46 CT',\n",
       " \"Dow Futures Mini (Dec '24)\",\n",
       " '44,169',\n",
       " '+61',\n",
       " '44,261',\n",
       " '44,029',\n",
       " '23,663',\n",
       " '07:46 CT',\n",
       " \"S&P 500 VIX (Dec '24)\",\n",
       " '15.4100',\n",
       " '-0.0498',\n",
       " '15.6000',\n",
       " '15.3500',\n",
       " '3,865',\n",
       " '07:46 CT',\n",
       " \"U.S. Dollar Index (Dec '24)\",\n",
       " '106.810',\n",
       " '+0.431',\n",
       " '106.990',\n",
       " '106.410',\n",
       " '11,137',\n",
       " '07:46 CT',\n",
       " \"10-Year T-Note (Dec '24)\",\n",
       " '109-060',\n",
       " '-0-075',\n",
       " '109-165',\n",
       " '109-040',\n",
       " '769,255',\n",
       " '07:46 CT',\n",
       " \"Crude Oil WTI (Dec '24)\",\n",
       " '69.12',\n",
       " '+0.69',\n",
       " '69.29',\n",
       " '67.92',\n",
       " '61,204',\n",
       " '07:46 CT',\n",
       " \"Natural Gas (Jan '25)\",\n",
       " '3.174',\n",
       " '-0.028',\n",
       " '3.201',\n",
       " '3.156',\n",
       " '13,585',\n",
       " '07:46 CT',\n",
       " \"Gold (Dec '24)\",\n",
       " '2,563.5',\n",
       " '-23.0',\n",
       " '2,585.8',\n",
       " '2,541.5',\n",
       " '140,994',\n",
       " '07:46 CT',\n",
       " \"Silver (Dec '24)\",\n",
       " '30.285',\n",
       " '-0.378',\n",
       " '30.515',\n",
       " '29.750',\n",
       " '41,454',\n",
       " '07:46 CT',\n",
       " \"Corn (Dec '24)\",\n",
       " '425-4',\n",
       " '-1-0',\n",
       " '428-0',\n",
       " '425-2',\n",
       " '30,236',\n",
       " '07:44 CT',\n",
       " \"Wheat (Dec '24)\",\n",
       " '537-4',\n",
       " '-3-4',\n",
       " '544-2',\n",
       " '536-2',\n",
       " '10,404',\n",
       " '07:44 CT',\n",
       " \"Soybean (Jan '25)\",\n",
       " '1007-2',\n",
       " '-0-4',\n",
       " '1013-6',\n",
       " '1005-0',\n",
       " '21,702',\n",
       " '07:44 CT',\n",
       " \"Sugar #11 (Mar '25)\",\n",
       " '21.38',\n",
       " '+0.21',\n",
       " '21.39',\n",
       " '20.86',\n",
       " '19,511',\n",
       " '07:46 CT',\n",
       " \"Coffee (Mar '25)\",\n",
       " '276.15',\n",
       " '+4.95',\n",
       " '276.50',\n",
       " '270.45',\n",
       " '9,427',\n",
       " '07:46 CT',\n",
       " \"Cocoa (Mar '25)\",\n",
       " '8,390',\n",
       " '+419',\n",
       " '8,417',\n",
       " '7,952',\n",
       " '5,882',\n",
       " '07:46 CT']"
      ]
     },
     "execution_count": 5,
     "metadata": {},
     "output_type": "execute_result"
    }
   ],
   "source": [
    "lines"
   ]
  },
  {
   "cell_type": "code",
   "execution_count": 6,
   "metadata": {},
   "outputs": [],
   "source": [
    "# Step 2: Extract headers ---\n",
    "headers = lines[:7]"
   ]
  },
  {
   "cell_type": "code",
   "execution_count": 7,
   "metadata": {},
   "outputs": [],
   "source": [
    "# Step 3: Process remaining lines to group them in rows ---\n",
    "data_rows = []\n",
    "for i in range(8, len(lines), 7):\n",
    "    data_rows.append(lines[i:i + 7])"
   ]
  },
  {
   "cell_type": "code",
   "execution_count": 34,
   "metadata": {},
   "outputs": [],
   "source": [
    "# Step 4: Create a DataFrame ---\n",
    "df = pd.DataFrame(data_rows, columns=headers)"
   ]
  },
  {
   "cell_type": "markdown",
   "metadata": {},
   "source": [
    "### Final Output - the DataFrame "
   ]
  },
  {
   "cell_type": "code",
   "execution_count": 35,
   "metadata": {},
   "outputs": [
    {
     "data": {
      "text/html": [
       "<div>\n",
       "<style scoped>\n",
       "    .dataframe tbody tr th:only-of-type {\n",
       "        vertical-align: middle;\n",
       "    }\n",
       "\n",
       "    .dataframe tbody tr th {\n",
       "        vertical-align: top;\n",
       "    }\n",
       "\n",
       "    .dataframe thead th {\n",
       "        text-align: right;\n",
       "    }\n",
       "</style>\n",
       "<table border=\"1\" class=\"dataframe\">\n",
       "  <thead>\n",
       "    <tr style=\"text-align: right;\">\n",
       "      <th></th>\n",
       "      <th>Contract Name</th>\n",
       "      <th>Last</th>\n",
       "      <th>Change</th>\n",
       "      <th>High</th>\n",
       "      <th>Low</th>\n",
       "      <th>Volume</th>\n",
       "      <th>Time</th>\n",
       "    </tr>\n",
       "  </thead>\n",
       "  <tbody>\n",
       "    <tr>\n",
       "      <th>0</th>\n",
       "      <td>S&amp;P 500 E-Mini (Dec '24)</td>\n",
       "      <td>6,011.75</td>\n",
       "      <td>-4.25</td>\n",
       "      <td>6,025.25</td>\n",
       "      <td>6,004.00</td>\n",
       "      <td>155,852</td>\n",
       "      <td>07:46 CT</td>\n",
       "    </tr>\n",
       "    <tr>\n",
       "      <th>1</th>\n",
       "      <td>Nasdaq 100 E-Mini (Dec '24)</td>\n",
       "      <td>21,133.75</td>\n",
       "      <td>-25.75</td>\n",
       "      <td>21,190.25</td>\n",
       "      <td>21,090.25</td>\n",
       "      <td>79,976</td>\n",
       "      <td>07:46 CT</td>\n",
       "    </tr>\n",
       "    <tr>\n",
       "      <th>2</th>\n",
       "      <td>Dow Futures Mini (Dec '24)</td>\n",
       "      <td>44,169</td>\n",
       "      <td>+61</td>\n",
       "      <td>44,261</td>\n",
       "      <td>44,029</td>\n",
       "      <td>23,663</td>\n",
       "      <td>07:46 CT</td>\n",
       "    </tr>\n",
       "    <tr>\n",
       "      <th>3</th>\n",
       "      <td>S&amp;P 500 VIX (Dec '24)</td>\n",
       "      <td>15.4100</td>\n",
       "      <td>-0.0498</td>\n",
       "      <td>15.6000</td>\n",
       "      <td>15.3500</td>\n",
       "      <td>3,865</td>\n",
       "      <td>07:46 CT</td>\n",
       "    </tr>\n",
       "    <tr>\n",
       "      <th>4</th>\n",
       "      <td>U.S. Dollar Index (Dec '24)</td>\n",
       "      <td>106.810</td>\n",
       "      <td>+0.431</td>\n",
       "      <td>106.990</td>\n",
       "      <td>106.410</td>\n",
       "      <td>11,137</td>\n",
       "      <td>07:46 CT</td>\n",
       "    </tr>\n",
       "    <tr>\n",
       "      <th>5</th>\n",
       "      <td>10-Year T-Note (Dec '24)</td>\n",
       "      <td>109-060</td>\n",
       "      <td>-0-075</td>\n",
       "      <td>109-165</td>\n",
       "      <td>109-040</td>\n",
       "      <td>769,255</td>\n",
       "      <td>07:46 CT</td>\n",
       "    </tr>\n",
       "    <tr>\n",
       "      <th>6</th>\n",
       "      <td>Crude Oil WTI (Dec '24)</td>\n",
       "      <td>69.12</td>\n",
       "      <td>+0.69</td>\n",
       "      <td>69.29</td>\n",
       "      <td>67.92</td>\n",
       "      <td>61,204</td>\n",
       "      <td>07:46 CT</td>\n",
       "    </tr>\n",
       "    <tr>\n",
       "      <th>7</th>\n",
       "      <td>Natural Gas (Jan '25)</td>\n",
       "      <td>3.174</td>\n",
       "      <td>-0.028</td>\n",
       "      <td>3.201</td>\n",
       "      <td>3.156</td>\n",
       "      <td>13,585</td>\n",
       "      <td>07:46 CT</td>\n",
       "    </tr>\n",
       "    <tr>\n",
       "      <th>8</th>\n",
       "      <td>Gold (Dec '24)</td>\n",
       "      <td>2,563.5</td>\n",
       "      <td>-23.0</td>\n",
       "      <td>2,585.8</td>\n",
       "      <td>2,541.5</td>\n",
       "      <td>140,994</td>\n",
       "      <td>07:46 CT</td>\n",
       "    </tr>\n",
       "    <tr>\n",
       "      <th>9</th>\n",
       "      <td>Silver (Dec '24)</td>\n",
       "      <td>30.285</td>\n",
       "      <td>-0.378</td>\n",
       "      <td>30.515</td>\n",
       "      <td>29.750</td>\n",
       "      <td>41,454</td>\n",
       "      <td>07:46 CT</td>\n",
       "    </tr>\n",
       "    <tr>\n",
       "      <th>10</th>\n",
       "      <td>Corn (Dec '24)</td>\n",
       "      <td>425-4</td>\n",
       "      <td>-1-0</td>\n",
       "      <td>428-0</td>\n",
       "      <td>425-2</td>\n",
       "      <td>30,236</td>\n",
       "      <td>07:44 CT</td>\n",
       "    </tr>\n",
       "    <tr>\n",
       "      <th>11</th>\n",
       "      <td>Wheat (Dec '24)</td>\n",
       "      <td>537-4</td>\n",
       "      <td>-3-4</td>\n",
       "      <td>544-2</td>\n",
       "      <td>536-2</td>\n",
       "      <td>10,404</td>\n",
       "      <td>07:44 CT</td>\n",
       "    </tr>\n",
       "    <tr>\n",
       "      <th>12</th>\n",
       "      <td>Soybean (Jan '25)</td>\n",
       "      <td>1007-2</td>\n",
       "      <td>-0-4</td>\n",
       "      <td>1013-6</td>\n",
       "      <td>1005-0</td>\n",
       "      <td>21,702</td>\n",
       "      <td>07:44 CT</td>\n",
       "    </tr>\n",
       "    <tr>\n",
       "      <th>13</th>\n",
       "      <td>Sugar #11 (Mar '25)</td>\n",
       "      <td>21.38</td>\n",
       "      <td>+0.21</td>\n",
       "      <td>21.39</td>\n",
       "      <td>20.86</td>\n",
       "      <td>19,511</td>\n",
       "      <td>07:46 CT</td>\n",
       "    </tr>\n",
       "    <tr>\n",
       "      <th>14</th>\n",
       "      <td>Coffee (Mar '25)</td>\n",
       "      <td>276.15</td>\n",
       "      <td>+4.95</td>\n",
       "      <td>276.50</td>\n",
       "      <td>270.45</td>\n",
       "      <td>9,427</td>\n",
       "      <td>07:46 CT</td>\n",
       "    </tr>\n",
       "    <tr>\n",
       "      <th>15</th>\n",
       "      <td>Cocoa (Mar '25)</td>\n",
       "      <td>8,390</td>\n",
       "      <td>+419</td>\n",
       "      <td>8,417</td>\n",
       "      <td>7,952</td>\n",
       "      <td>5,882</td>\n",
       "      <td>07:46 CT</td>\n",
       "    </tr>\n",
       "  </tbody>\n",
       "</table>\n",
       "</div>"
      ],
      "text/plain": [
       "                  Contract Name       Last   Change       High        Low  \\\n",
       "0      S&P 500 E-Mini (Dec '24)   6,011.75    -4.25   6,025.25   6,004.00   \n",
       "1   Nasdaq 100 E-Mini (Dec '24)  21,133.75   -25.75  21,190.25  21,090.25   \n",
       "2    Dow Futures Mini (Dec '24)     44,169      +61     44,261     44,029   \n",
       "3         S&P 500 VIX (Dec '24)    15.4100  -0.0498    15.6000    15.3500   \n",
       "4   U.S. Dollar Index (Dec '24)    106.810   +0.431    106.990    106.410   \n",
       "5      10-Year T-Note (Dec '24)    109-060   -0-075    109-165    109-040   \n",
       "6       Crude Oil WTI (Dec '24)      69.12    +0.69      69.29      67.92   \n",
       "7         Natural Gas (Jan '25)      3.174   -0.028      3.201      3.156   \n",
       "8                Gold (Dec '24)    2,563.5    -23.0    2,585.8    2,541.5   \n",
       "9              Silver (Dec '24)     30.285   -0.378     30.515     29.750   \n",
       "10               Corn (Dec '24)      425-4     -1-0      428-0      425-2   \n",
       "11              Wheat (Dec '24)      537-4     -3-4      544-2      536-2   \n",
       "12            Soybean (Jan '25)     1007-2     -0-4     1013-6     1005-0   \n",
       "13          Sugar #11 (Mar '25)      21.38    +0.21      21.39      20.86   \n",
       "14             Coffee (Mar '25)     276.15    +4.95     276.50     270.45   \n",
       "15              Cocoa (Mar '25)      8,390     +419      8,417      7,952   \n",
       "\n",
       "     Volume      Time  \n",
       "0   155,852  07:46 CT  \n",
       "1    79,976  07:46 CT  \n",
       "2    23,663  07:46 CT  \n",
       "3     3,865  07:46 CT  \n",
       "4    11,137  07:46 CT  \n",
       "5   769,255  07:46 CT  \n",
       "6    61,204  07:46 CT  \n",
       "7    13,585  07:46 CT  \n",
       "8   140,994  07:46 CT  \n",
       "9    41,454  07:46 CT  \n",
       "10   30,236  07:44 CT  \n",
       "11   10,404  07:44 CT  \n",
       "12   21,702  07:44 CT  \n",
       "13   19,511  07:46 CT  \n",
       "14    9,427  07:46 CT  \n",
       "15    5,882  07:46 CT  "
      ]
     },
     "execution_count": 35,
     "metadata": {},
     "output_type": "execute_result"
    }
   ],
   "source": [
    "df"
   ]
  },
  {
   "cell_type": "markdown",
   "metadata": {},
   "source": [
    "--- Analysed the Data ---"
   ]
  },
  {
   "cell_type": "code",
   "execution_count": 39,
   "metadata": {},
   "outputs": [],
   "source": [
    "# Clean data\n",
    "df[\"Last\"] = pd.to_numeric(df[\"Last\"], errors=\"coerce\")\n",
    "df[\"Change\"] = pd.to_numeric(df[\"Change\"], errors=\"coerce\")\n",
    "df[\"High\"] = pd.to_numeric(df[\"High\"], errors=\"coerce\")\n",
    "df[\"Low\"] = pd.to_numeric(df[\"Low\"], errors=\"coerce\")\n"
   ]
  },
  {
   "cell_type": "code",
   "execution_count": 40,
   "metadata": {},
   "outputs": [],
   "source": [
    "# Calculate the Mean of High and Low\n",
    "df[\"Mean\"] = (df[\"High\"] + df[\"Low\"]) / 2"
   ]
  },
  {
   "cell_type": "code",
   "execution_count": 41,
   "metadata": {},
   "outputs": [
    {
     "data": {
      "text/plain": [
       "Contract Name    Cocoa (Mar '25)\n",
       "Last                         NaN\n",
       "Change                     419.0\n",
       "High                         NaN\n",
       "Low                          NaN\n",
       "Volume                     5,882\n",
       "Time                    07:46 CT\n",
       "Mean                         NaN\n",
       "Name: 15, dtype: object"
      ]
     },
     "execution_count": 41,
     "metadata": {},
     "output_type": "execute_result"
    }
   ],
   "source": [
    "# Find the row with the largest \"Change\"\n",
    "max_change_row = df.loc[df[\"Change\"].idxmax()]\n",
    "max_change_row\n"
   ]
  },
  {
   "cell_type": "code",
   "execution_count": 42,
   "metadata": {},
   "outputs": [
    {
     "name": "stdout",
     "output_type": "stream",
     "text": [
      "Largest Change Contract: Cocoa (Mar '25), Last Price: nan\n"
     ]
    }
   ],
   "source": [
    "contract_name = max_change_row[\"Contract Name\"]\n",
    "last_price = max_change_row[\"Last\"]\n",
    "print(f\"Largest Change Contract: {contract_name}, Last Price: {last_price}\")"
   ]
  },
  {
   "cell_type": "markdown",
   "metadata": {},
   "source": [
    "Line Plot for High, Low, and Mean Prices"
   ]
  },
  {
   "cell_type": "code",
   "execution_count": 27,
   "metadata": {},
   "outputs": [
    {
     "data": {
      "image/png": "[encoded data removed]",
      "text/plain": [
       "<Figure size 1000x600 with 1 Axes>"
      ]
     },
     "metadata": {},
     "output_type": "display_data"
    }
   ],
   "source": [
    "plt.figure(figsize=(10, 6))\n",
    "plt.plot(df.index, df['High'], label='High', color='blue')\n",
    "plt.plot(df.index, df['Low'], label='Low', color='red')\n",
    "plt.plot(df.index, df['Mean'], label='Mean', color='green')\n",
    "plt.xlabel(\"Contract\")\n",
    "plt.ylabel(\"Price\")\n",
    "plt.legend()\n",
    "plt.title(\"High, Low, and Mean Prices by Contract\")\n",
    "plt.show()\n",
    "\n"
   ]
  }
 ],
 "metadata": {
  "kernelspec": {
   "display_name": "Python 3",
   "language": "python",
   "name": "python3"
  },
  "language_info": {
   "codemirror_mode": {
    "name": "ipython",
    "version": 3
   },
   "file_extension": ".py",
   "mimetype": "text/x-python",
   "name": "python",
   "nbconvert_exporter": "python",
   "pygments_lexer": "ipython3",
   "version": "3.11.5"
  }
 },
 "nbformat": 4,
 "nbformat_minor": 2
}
